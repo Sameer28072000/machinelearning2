{
 "cells": [
  {
   "cell_type": "markdown",
   "id": "7c9c6abd-d3bd-46bb-9a84-56d8b48b0f57",
   "metadata": {},
   "source": [
    "Q1: Define overfitting and underfitting in machine learning. What are the consequences of each, and how can they be mitigated?"
   ]
  },
  {
   "cell_type": "code",
   "execution_count": null,
   "id": "742d074a-db7d-4793-9ccd-fd7ea17d1c11",
   "metadata": {},
   "outputs": [],
   "source": [
    "Ans:-\n",
    "Train the model with more attribute is called overfitting (low bias & high variance)\n",
    "\n",
    "     how can they be mitigated?\n",
    "i.Regularization\n",
    "ii.cross validation\n",
    "iii.feature selection\n",
    "    \n",
    "Train the model with less attribute is called underfitting (high bias & low variance)\n",
    "\n",
    "    how can they be mitigated\n",
    "i.Feature Engg.\n",
    "ii.Ensemble method\n",
    "iii.Model complexity"
   ]
  },
  {
   "cell_type": "markdown",
   "id": "a45d4050-8fc4-4381-8135-af36463b6572",
   "metadata": {},
   "source": [
    "Q2: How can we reduce overfitting? Explain in brief."
   ]
  },
  {
   "cell_type": "code",
   "execution_count": null,
   "id": "15b941b5-f4d4-478e-a22f-cb614cbd2a00",
   "metadata": {},
   "outputs": [],
   "source": [
    "Ans:-\n",
    "First of all you have to eleminate irrelevant attribute.\n",
    "i.cross validation\n",
    "ii.regularization\n",
    "iii.Business Understanding\n",
    "iv.PCA(Principal Component Analysis)"
   ]
  },
  {
   "cell_type": "markdown",
   "id": "ece7e81c-780e-40aa-87d8-212cdf7cd405",
   "metadata": {},
   "source": [
    "Q3: Explain underfitting. List scenarios where underfitting can occur in ML."
   ]
  },
  {
   "cell_type": "code",
   "execution_count": null,
   "id": "d94ca078-c4aa-42fa-9f77-07ed93b7e3e9",
   "metadata": {},
   "outputs": [],
   "source": [
    "Ans:-\n",
    "In Underfitting train the model with less attribute.\n",
    "i.Limited Training Data\n",
    "ii.Over Regularization\n",
    "iii.Imbalance Data"
   ]
  },
  {
   "cell_type": "markdown",
   "id": "7eb788b5-79b7-4797-bd14-16c3bc2709b4",
   "metadata": {},
   "source": [
    "Q4: Explain the bias-variance tradeoff in machine learning. What is the relationship between bias and\n",
    "variance, and how do they affect model performance?"
   ]
  },
  {
   "cell_type": "code",
   "execution_count": null,
   "id": "a9ac6196-cbfb-416d-a62f-2e2254e293b5",
   "metadata": {},
   "outputs": [],
   "source": [
    "Ans:-\n",
    "Overfitting---->Train the model with more attribute is called overfitting (low bias & high variance)\n",
    "Underfitting----->Train the model with less attribute is called underfitting (high bias & low variance)\n",
    "\n",
    " how do they affect model performance?\n",
    "i.model Selection\n",
    "ii.Regularization\n",
    "iii.Ensemble Methods"
   ]
  },
  {
   "cell_type": "markdown",
   "id": "5f9b7772-503d-48e4-8a09-a0426ba945d3",
   "metadata": {},
   "source": [
    "Q5: Discuss some common methods for detecting overfitting and underfitting in machine learning models.\n",
    "How can you determine whether your model is overfitting or underfitting?"
   ]
  },
  {
   "cell_type": "code",
   "execution_count": null,
   "id": "ff206105-c0f5-4aa4-a055-a80d7c663398",
   "metadata": {},
   "outputs": [],
   "source": [
    "Ans:-\n",
    "i.Performance matrix\n",
    "ii.Regularization\n",
    "iii.Cross Validation"
   ]
  },
  {
   "cell_type": "markdown",
   "id": "268ec736-1060-4830-9565-e1abc586c1e4",
   "metadata": {},
   "source": [
    "Q6: Compare and contrast bias and variance in machine learning. What are some examples of high bias\n",
    "and high variance models, and how do they differ in terms of their performance?"
   ]
  },
  {
   "cell_type": "code",
   "execution_count": null,
   "id": "8d6849f7-cd5f-461e-81cf-b50a92b4ed30",
   "metadata": {},
   "outputs": [],
   "source": [
    "Ans:-\n",
    "Bias belongs to Training Data\n",
    "Variance belongs to Testing\n",
    "\n",
    "High Bias---> In Underfitting Taining & Testing have high error.\n",
    "High Variance----> In Overfitting Traing & Testing have less error\n",
    "\n"
   ]
  },
  {
   "cell_type": "markdown",
   "id": "9a7acb85-bb04-4e3b-a0a1-2fc6a24c6659",
   "metadata": {},
   "source": [
    "Q7: What is regularization in machine learning, and how can it be used to prevent overfitting? Describe\n",
    "some common regularization techniques and how they work."
   ]
  },
  {
   "cell_type": "code",
   "execution_count": null,
   "id": "a6076581-0bf1-4290-baba-dda4c8564e68",
   "metadata": {},
   "outputs": [],
   "source": [
    "Ans:-\n",
    "Regularization the highest coeff. magnitude to lowest coeff. magnitude\n",
    "\n",
    "Regularization is the techique used to prevent overfitting by adding penalty term & loss function\n",
    "\n",
    "There are three types of technique mostly used:\n",
    "    \n",
    "i.Lasso  regularization (L1)\n",
    "ii.Ridge regularization (L2)\n",
    "iii.ElasticNet Regularization."
   ]
  }
 ],
 "metadata": {
  "kernelspec": {
   "display_name": "Python 3 (ipykernel)",
   "language": "python",
   "name": "python3"
  },
  "language_info": {
   "codemirror_mode": {
    "name": "ipython",
    "version": 3
   },
   "file_extension": ".py",
   "mimetype": "text/x-python",
   "name": "python",
   "nbconvert_exporter": "python",
   "pygments_lexer": "ipython3",
   "version": "3.10.8"
  }
 },
 "nbformat": 4,
 "nbformat_minor": 5
}
